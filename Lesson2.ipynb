{
 "cells": [
  {
   "cell_type": "code",
   "execution_count": 1,
   "metadata": {
    "colab": {},
    "colab_type": "code",
    "id": "_u5bV-OlT34p"
   },
   "outputs": [],
   "source": [
    "import numpy as np\n",
    "import matplotlib.pyplot as plt"
   ]
  },
  {
   "cell_type": "code",
   "execution_count": 2,
   "metadata": {
    "colab": {},
    "colab_type": "code",
    "id": "_n6il-AZaLuA"
   },
   "outputs": [],
   "source": [
    "X = np.array([[1, 1, 1, 1, 1, 1, 1, 1, 1, 1],\n",
    "              [1, 1, 2, 1, 3, 0, 5, 10, 1, 2],\n",
    "              [500, 700, 750, 600, 1450,\n",
    "               800, 1500, 2000, 450, 1000],\n",
    "              [1, 1, 2, 1, 2, \n",
    "               1, 3, 3, 1, 2]])"
   ]
  },
  {
   "cell_type": "code",
   "execution_count": 3,
   "metadata": {
    "colab": {},
    "colab_type": "code",
    "id": "x8yoci01ni-t"
   },
   "outputs": [],
   "source": [
    "y = [45, 55, 50, 59, 65,\n",
    "    35, 75, 80, 50, 60]"
   ]
  },
  {
   "cell_type": "code",
   "execution_count": 4,
   "metadata": {
    "colab": {
     "base_uri": "https://localhost:8080/",
     "height": 34
    },
    "colab_type": "code",
    "id": "Ei5qeZO_aT6m",
    "outputId": "087819d3-202a-46c9-f87d-49e17953099c"
   },
   "outputs": [
    {
     "data": {
      "text/plain": [
       "(0, 10)"
      ]
     },
     "execution_count": 4,
     "metadata": {},
     "output_type": "execute_result"
    }
   ],
   "source": [
    "# Нормализация [0, 1]\n",
    "X[1].min(), X[1].max()"
   ]
  },
  {
   "cell_type": "code",
   "execution_count": 5,
   "metadata": {
    "colab": {
     "base_uri": "https://localhost:8080/",
     "height": 34
    },
    "colab_type": "code",
    "id": "L7wsW1Q7b4Ts",
    "outputId": "911044d6-32c1-475a-80cd-cbaf26d5ba32"
   },
   "outputs": [
    {
     "data": {
      "text/plain": [
       "(450, 2000)"
      ]
     },
     "execution_count": 5,
     "metadata": {},
     "output_type": "execute_result"
    }
   ],
   "source": [
    "X[2].min(), X[2].max()"
   ]
  },
  {
   "cell_type": "code",
   "execution_count": 6,
   "metadata": {
    "colab": {
     "base_uri": "https://localhost:8080/",
     "height": 121
    },
    "colab_type": "code",
    "id": "E55S9Bzob9Xa",
    "outputId": "4abf56a2-d484-4c24-8520-8ed1b58ccca8",
    "scrolled": true
   },
   "outputs": [
    {
     "data": {
      "text/plain": [
       "array([[1.00e+00, 1.00e+00, 1.00e+00, 1.00e+00, 1.00e+00, 1.00e+00,\n",
       "        1.00e+00, 1.00e+00, 1.00e+00, 1.00e+00],\n",
       "       [1.00e+00, 1.00e+00, 2.00e+00, 1.00e+00, 3.00e+00, 0.00e+00,\n",
       "        5.00e+00, 1.00e+01, 1.00e+00, 2.00e+00],\n",
       "       [5.00e+02, 7.00e+02, 7.50e+02, 6.00e+02, 1.45e+03, 8.00e+02,\n",
       "        1.50e+03, 2.00e+03, 4.50e+02, 1.00e+03],\n",
       "       [1.00e+00, 1.00e+00, 2.00e+00, 1.00e+00, 2.00e+00, 1.00e+00,\n",
       "        3.00e+00, 3.00e+00, 1.00e+00, 2.00e+00]])"
      ]
     },
     "execution_count": 6,
     "metadata": {},
     "output_type": "execute_result"
    }
   ],
   "source": [
    "X_norm = X.copy()\n",
    "X_norm = X_norm.astype(np.float64)\n",
    "X_norm"
   ]
  },
  {
   "cell_type": "code",
   "execution_count": 7,
   "metadata": {
    "colab": {
     "base_uri": "https://localhost:8080/",
     "height": 121
    },
    "colab_type": "code",
    "id": "7x-6IuPOcIo0",
    "outputId": "1668fec7-37ae-4671-ad9f-f093c30a6c72"
   },
   "outputs": [
    {
     "data": {
      "text/plain": [
       "array([[1.00e+00, 1.00e+00, 1.00e+00, 1.00e+00, 1.00e+00, 1.00e+00,\n",
       "        1.00e+00, 1.00e+00, 1.00e+00, 1.00e+00],\n",
       "       [1.00e-01, 1.00e-01, 2.00e-01, 1.00e-01, 3.00e-01, 0.00e+00,\n",
       "        5.00e-01, 1.00e+00, 1.00e-01, 2.00e-01],\n",
       "       [5.00e+02, 7.00e+02, 7.50e+02, 6.00e+02, 1.45e+03, 8.00e+02,\n",
       "        1.50e+03, 2.00e+03, 4.50e+02, 1.00e+03],\n",
       "       [1.00e+00, 1.00e+00, 2.00e+00, 1.00e+00, 2.00e+00, 1.00e+00,\n",
       "        3.00e+00, 3.00e+00, 1.00e+00, 2.00e+00]])"
      ]
     },
     "execution_count": 7,
     "metadata": {},
     "output_type": "execute_result"
    }
   ],
   "source": [
    "X_norm[1] = (X[1] - X[1].min()) / (X[1].max() - X[1].min())\n",
    "X_norm"
   ]
  },
  {
   "cell_type": "code",
   "execution_count": 8,
   "metadata": {
    "colab": {
     "base_uri": "https://localhost:8080/",
     "height": 121
    },
    "colab_type": "code",
    "id": "izkMRdXFcjyK",
    "outputId": "982b8c8d-629d-4c4a-a3d5-67854cee4a4a"
   },
   "outputs": [
    {
     "data": {
      "text/plain": [
       "array([[1.        , 1.        , 1.        , 1.        , 1.        ,\n",
       "        1.        , 1.        , 1.        , 1.        , 1.        ],\n",
       "       [0.1       , 0.1       , 0.2       , 0.1       , 0.3       ,\n",
       "        0.        , 0.5       , 1.        , 0.1       , 0.2       ],\n",
       "       [0.03225806, 0.16129032, 0.19354839, 0.09677419, 0.64516129,\n",
       "        0.22580645, 0.67741935, 1.        , 0.        , 0.35483871],\n",
       "       [1.        , 1.        , 2.        , 1.        , 2.        ,\n",
       "        1.        , 3.        , 3.        , 1.        , 2.        ]])"
      ]
     },
     "execution_count": 8,
     "metadata": {},
     "output_type": "execute_result"
    }
   ],
   "source": [
    "X_norm[2] = (X[2] - X[2].min()) / (X[2].max() - X[2].min())\n",
    "X_norm"
   ]
  },
  {
   "cell_type": "code",
   "execution_count": 9,
   "metadata": {
    "colab": {},
    "colab_type": "code",
    "id": "Zy63bpFfeqzu"
   },
   "outputs": [],
   "source": [
    "# Стандартизация"
   ]
  },
  {
   "cell_type": "code",
   "execution_count": 10,
   "metadata": {
    "colab": {
     "base_uri": "https://localhost:8080/",
     "height": 317
    },
    "colab_type": "code",
    "id": "8i9pB-3-fMD4",
    "outputId": "3cbe76f6-d000-4fcd-fe86-ffe853403356"
   },
   "outputs": [
    {
     "data": {
      "text/plain": [
       "(array([1., 4., 2., 1., 0., 1., 0., 0., 0., 1.]),\n",
       " array([ 0.,  1.,  2.,  3.,  4.,  5.,  6.,  7.,  8.,  9., 10.]),\n",
       " <a list of 10 Patch objects>)"
      ]
     },
     "execution_count": 10,
     "metadata": {},
     "output_type": "execute_result"
    },
    {
     "data": {
      "image/png": "[encoded data removed]",
      "text/plain": [
       "<Figure size 432x288 with 1 Axes>"
      ]
     },
     "metadata": {
      "needs_background": "light"
     },
     "output_type": "display_data"
    }
   ],
   "source": [
    "plt.hist(X[1])"
   ]
  },
  {
   "cell_type": "code",
   "execution_count": 11,
   "metadata": {
    "colab": {
     "base_uri": "https://localhost:8080/",
     "height": 335
    },
    "colab_type": "code",
    "id": "-bnAYQqVfRX-",
    "outputId": "d59b0013-49bc-40fa-cb29-e71403e6e9e0"
   },
   "outputs": [
    {
     "data": {
      "text/plain": [
       "(array([3., 2., 1., 1., 0., 0., 2., 0., 0., 1.]),\n",
       " array([ 450.,  605.,  760.,  915., 1070., 1225., 1380., 1535., 1690.,\n",
       "        1845., 2000.]),\n",
       " <a list of 10 Patch objects>)"
      ]
     },
     "execution_count": 11,
     "metadata": {},
     "output_type": "execute_result"
    },
    {
     "data": {
      "image/png": "[encoded data removed]",
      "text/plain": [
       "<Figure size 432x288 with 1 Axes>"
      ]
     },
     "metadata": {
      "needs_background": "light"
     },
     "output_type": "display_data"
    }
   ],
   "source": [
    "plt.hist(X[2])"
   ]
  },
  {
   "cell_type": "code",
   "execution_count": 12,
   "metadata": {
    "colab": {
     "base_uri": "https://localhost:8080/",
     "height": 34
    },
    "colab_type": "code",
    "id": "eBMYUxGBfeGs",
    "outputId": "3d6031a8-3489-4661-a4a9-62d0c94c7116"
   },
   "outputs": [
    {
     "data": {
      "text/plain": [
       "2.6"
      ]
     },
     "execution_count": 12,
     "metadata": {},
     "output_type": "execute_result"
    }
   ],
   "source": [
    "X1_mean = X[1].mean()\n",
    "X1_mean"
   ]
  },
  {
   "cell_type": "code",
   "execution_count": 13,
   "metadata": {
    "colab": {
     "base_uri": "https://localhost:8080/",
     "height": 34
    },
    "colab_type": "code",
    "id": "KsBCCu-Cf45z",
    "outputId": "e5c534cf-2e3c-4574-f281-3ae73c956783"
   },
   "outputs": [
    {
     "data": {
      "text/plain": [
       "2.8000000000000003"
      ]
     },
     "execution_count": 13,
     "metadata": {},
     "output_type": "execute_result"
    }
   ],
   "source": [
    "X1_std = X[1].std()\n",
    "X1_std"
   ]
  },
  {
   "cell_type": "code",
   "execution_count": 14,
   "metadata": {
    "colab": {},
    "colab_type": "code",
    "id": "M57-Pzl_f_rF"
   },
   "outputs": [],
   "source": [
    "X_st = X.copy().astype(np.float64)"
   ]
  },
  {
   "cell_type": "code",
   "execution_count": 15,
   "metadata": {
    "colab": {
     "base_uri": "https://localhost:8080/",
     "height": 294
    },
    "colab_type": "code",
    "id": "btJMY0YbgKLb",
    "outputId": "40010205-def9-4582-9a5d-e513e85b7a4e"
   },
   "outputs": [
    {
     "data": {
      "text/plain": [
       "array([[ 1.00000000e+00,  1.00000000e+00,  1.00000000e+00,\n",
       "         1.00000000e+00,  1.00000000e+00,  1.00000000e+00,\n",
       "         1.00000000e+00,  1.00000000e+00,  1.00000000e+00,\n",
       "         1.00000000e+00],\n",
       "       [-5.71428571e-01, -5.71428571e-01, -2.14285714e-01,\n",
       "        -5.71428571e-01,  1.42857143e-01, -9.28571429e-01,\n",
       "         8.57142857e-01,  2.64285714e+00, -5.71428571e-01,\n",
       "        -2.14285714e-01],\n",
       "       [ 5.00000000e+02,  7.00000000e+02,  7.50000000e+02,\n",
       "         6.00000000e+02,  1.45000000e+03,  8.00000000e+02,\n",
       "         1.50000000e+03,  2.00000000e+03,  4.50000000e+02,\n",
       "         1.00000000e+03],\n",
       "       [ 1.00000000e+00,  1.00000000e+00,  2.00000000e+00,\n",
       "         1.00000000e+00,  2.00000000e+00,  1.00000000e+00,\n",
       "         3.00000000e+00,  3.00000000e+00,  1.00000000e+00,\n",
       "         2.00000000e+00]])"
      ]
     },
     "execution_count": 15,
     "metadata": {},
     "output_type": "execute_result"
    }
   ],
   "source": [
    "X_st[1] = (X[1] - X1_mean) / X1_std\n",
    "X_st"
   ]
  },
  {
   "cell_type": "code",
   "execution_count": 16,
   "metadata": {
    "colab": {
     "base_uri": "https://localhost:8080/",
     "height": 352
    },
    "colab_type": "code",
    "id": "-Y1tzWGCgYjA",
    "outputId": "89dc21fe-180f-4e68-f30f-1cf276c4f154"
   },
   "outputs": [
    {
     "data": {
      "text/plain": [
       "(array([1., 4., 2., 1., 1., 0., 0., 0., 0., 1.]),\n",
       " array([-0.92857143, -0.57142857, -0.21428571,  0.14285714,  0.5       ,\n",
       "         0.85714286,  1.21428571,  1.57142857,  1.92857143,  2.28571429,\n",
       "         2.64285714]),\n",
       " <a list of 10 Patch objects>)"
      ]
     },
     "execution_count": 16,
     "metadata": {},
     "output_type": "execute_result"
    },
    {
     "data": {
      "image/png": "[encoded data removed]",
      "text/plain": [
       "<Figure size 432x288 with 1 Axes>"
      ]
     },
     "metadata": {
      "needs_background": "light"
     },
     "output_type": "display_data"
    }
   ],
   "source": [
    "plt.hist(X_st[1])"
   ]
  },
  {
   "cell_type": "code",
   "execution_count": 17,
   "metadata": {
    "colab": {},
    "colab_type": "code",
    "id": "ZlJUBOyzgkJV"
   },
   "outputs": [],
   "source": [
    "def calc_std_feat(x):\n",
    "  res = (x - x.mean()) / x.std()\n",
    "  return res\n",
    "  "
   ]
  },
  {
   "cell_type": "code",
   "execution_count": 18,
   "metadata": {
    "colab": {},
    "colab_type": "code",
    "id": "6PlDlFY0hGZA"
   },
   "outputs": [],
   "source": [
    "X_st[2] = calc_std_feat(X[2])"
   ]
  },
  {
   "cell_type": "code",
   "execution_count": 19,
   "metadata": {
    "colab": {
     "base_uri": "https://localhost:8080/",
     "height": 155
    },
    "colab_type": "code",
    "id": "LOKhmhJjt9TR",
    "outputId": "2b131d78-9066-462b-dfa9-778758f3d363"
   },
   "outputs": [
    {
     "data": {
      "text/plain": [
       "array([[ 1.        ,  1.        ,  1.        ,  1.        ,  1.        ,\n",
       "         1.        ,  1.        ,  1.        ,  1.        ,  1.        ],\n",
       "       [-0.57142857, -0.57142857, -0.21428571, -0.57142857,  0.14285714,\n",
       "        -0.92857143,  0.85714286,  2.64285714, -0.57142857, -0.21428571],\n",
       "       [-0.97958969, -0.56713087, -0.46401617, -0.77336028,  0.97958969,\n",
       "        -0.36090146,  1.08270439,  2.11385144, -1.08270439,  0.05155735],\n",
       "       [-0.89625816, -0.89625816,  0.38411064, -0.89625816,  0.38411064,\n",
       "        -0.89625816,  1.66447944,  1.66447944, -0.89625816,  0.38411064]])"
      ]
     },
     "execution_count": 19,
     "metadata": {},
     "output_type": "execute_result"
    }
   ],
   "source": [
    "X_st[3] = calc_std_feat(X[3])\n",
    "X_st"
   ]
  },
  {
   "cell_type": "code",
   "execution_count": 20,
   "metadata": {
    "colab": {
     "base_uri": "https://localhost:8080/",
     "height": 121
    },
    "colab_type": "code",
    "id": "UwiZ4UcOhQXX",
    "outputId": "a4b1c355-12d6-49cf-f097-24af99872ab9"
   },
   "outputs": [
    {
     "data": {
      "text/plain": [
       "array([[ 1.        ,  1.        ,  1.        ,  1.        ,  1.        ,\n",
       "         1.        ,  1.        ,  1.        ,  1.        ,  1.        ],\n",
       "       [-0.57142857, -0.57142857, -0.21428571, -0.57142857,  0.14285714,\n",
       "        -0.92857143,  0.85714286,  2.64285714, -0.57142857, -0.21428571],\n",
       "       [-0.97958969, -0.56713087, -0.46401617, -0.77336028,  0.97958969,\n",
       "        -0.36090146,  1.08270439,  2.11385144, -1.08270439,  0.05155735],\n",
       "       [-0.89625816, -0.89625816,  0.38411064, -0.89625816,  0.38411064,\n",
       "        -0.89625816,  1.66447944,  1.66447944, -0.89625816,  0.38411064]])"
      ]
     },
     "execution_count": 20,
     "metadata": {},
     "output_type": "execute_result"
    }
   ],
   "source": [
    "X_st"
   ]
  },
  {
   "cell_type": "code",
   "execution_count": 21,
   "metadata": {
    "colab": {},
    "colab_type": "code",
    "id": "UdGy9tjVhZol"
   },
   "outputs": [],
   "source": [
    "# SGD"
   ]
  },
  {
   "cell_type": "code",
   "execution_count": 22,
   "metadata": {
    "colab": {},
    "colab_type": "code",
    "id": "VDpN7UxYnrcS"
   },
   "outputs": [],
   "source": [
    "def calc_mse(y, y_pred):\n",
    "  err = np.mean((y - y_pred)**2)\n",
    "  return err"
   ]
  },
  {
   "cell_type": "code",
   "execution_count": 23,
   "metadata": {
    "colab": {},
    "colab_type": "code",
    "id": "SgEyis2zlJeb"
   },
   "outputs": [],
   "source": [
    "def eval_model(X, y, iterations, alpha=1e-4):\n",
    "  W = np.random.randn(X.shape[0])\n",
    "  n = X.shape[1]\n",
    "  for i in range(1, iterations+1):\n",
    "    y_pred = np.dot(W, X)\n",
    "    err = calc_mse(y, y_pred)\n",
    "    W -= (alpha * (1/n * 2 * np.dot((y_pred - y), X.T)))\n",
    "    if i % (iterations / 10) == 0:\n",
    "      print(i, W, err)\n",
    "  return W"
   ]
  },
  {
   "cell_type": "code",
   "execution_count": 24,
   "metadata": {
    "colab": {
     "base_uri": "https://localhost:8080/",
     "height": 207
    },
    "colab_type": "code",
    "id": "4nsYMAGjmFlB",
    "outputId": "8959a8af-3d27-42a6-afae-5db46c794fe1"
   },
   "outputs": [
    {
     "name": "stdout",
     "output_type": "stream",
     "text": [
      "100 [49.75612148  3.15440133  3.64743326  4.80243292] 102.15451489519359\n",
      "200 [56.38627223  3.77185724  3.31088265  4.56419095] 41.829448538013835\n",
      "300 [57.26555987  4.24772042  3.01425117  4.38782229] 40.429903299626346\n",
      "400 [57.38217061  4.62335677  2.76311283  4.26575205] 40.19062300468506\n",
      "500 [57.39763547  4.92067808  2.55083626  4.18284555] 40.048901171063804\n",
      "600 [57.39968642  5.15662964  2.37164143  4.12795824] 39.95743562383256\n",
      "700 [57.39995841  5.34436991  2.22054664  4.09293709] 39.897714329914216\n",
      "800 [57.39999448  5.49413936  2.09327507  4.07184329] 39.85837340804443\n",
      "900 [57.39999927  5.6139259   1.98616729  4.06037297] 39.83224889564439\n",
      "1000 [57.3999999   5.70997513  1.89610103  4.05542621] 39.814775105555476\n"
     ]
    },
    {
     "data": {
      "text/plain": [
       "array([57.3999999 ,  5.70997513,  1.89610103,  4.05542621])"
      ]
     },
     "execution_count": 24,
     "metadata": {},
     "output_type": "execute_result"
    }
   ],
   "source": [
    "eval_model(X_st, y, iterations=1000, alpha=1e-2)"
   ]
  },
  {
   "cell_type": "code",
   "execution_count": 25,
   "metadata": {
    "colab": {},
    "colab_type": "code",
    "id": "nCcMmNdQmxDp"
   },
   "outputs": [],
   "source": [
    "def eval_sgd_model(X, y, iterations, qty_in_batch, alpha=1e-4):\n",
    "  W = np.random.randn(X.shape[0])\n",
    "  n = X.shape[1]\n",
    "  n_batch = n // qty_in_batch\n",
    "  if n % qty_in_batch != 0:\n",
    "    n_batch += 1\n",
    "  for i in range(1, iterations+1):\n",
    "    for b in range(n_batch):\n",
    "      start_ = qty_in_batch*b\n",
    "      end_ = qty_in_batch*(b+1)\n",
    "      \n",
    "      # print(b, n_batch, start_, end_)\n",
    "      \n",
    "      X_tmp = X[:, start_ : end_]\n",
    "      y_tmp = y[start_ : end_]\n",
    "      y_pred_tmp = np.dot(W, X_tmp)\n",
    "      err = calc_mse(y_tmp, y_pred_tmp)\n",
    "      W -= (alpha * (1/n * 2 * np.dot((y_pred_tmp - y_tmp), X_tmp.T)))\n",
    "    if i % (iterations / 10) == 0:\n",
    "      print(i, W, err)\n",
    "  return W"
   ]
  },
  {
   "cell_type": "code",
   "execution_count": 26,
   "metadata": {
    "colab": {
     "base_uri": "https://localhost:8080/",
     "height": 207
    },
    "colab_type": "code",
    "id": "2aXap4Vsm3GV",
    "outputId": "8b666b76-9d01-4b6d-813c-f1d3f5901f5f"
   },
   "outputs": [
    {
     "name": "stdout",
     "output_type": "stream",
     "text": [
      "500 [57.39596137  5.67005772  2.25528443  3.7557281 ] 40.904864996479226\n",
      "1000 [57.39804377  5.94575172  1.75843731  3.98232883] 39.31120157813733\n",
      "1500 [57.39789379  6.06188004  1.55750455  4.06930893] 38.690129331380234\n",
      "2000 [57.39783203  6.1100342   1.47613867  4.10339239] 38.44412012347853\n",
      "2500 [57.39780676  6.12982387  1.44316495  4.11692746] 38.34558685471033\n",
      "3000 [57.39779646  6.13791436  1.42979609  4.12234761] 38.305891489023935\n",
      "3500 [57.39779227  6.14121177  1.42437432  4.12452933] 38.28984990636337\n",
      "4000 [57.39779056  6.14255322  1.42217514  4.12541028] 38.28335618070659\n",
      "4500 [57.39778987  6.14309836  1.42128302  4.12576668] 38.28072497801649\n",
      "5000 [57.39778959  6.14331975  1.4209211   4.12591103] 38.279658258201124\n"
     ]
    },
    {
     "data": {
      "text/plain": [
       "array([57.39778959,  6.14331975,  1.4209211 ,  4.12591103])"
      ]
     },
     "execution_count": 26,
     "metadata": {},
     "output_type": "execute_result"
    }
   ],
   "source": [
    "eval_sgd_model(X_st, y, iterations=5000, qty_in_batch=5, alpha=1e-2)"
   ]
  },
  {
   "cell_type": "code",
   "execution_count": null,
   "metadata": {
    "colab": {},
    "colab_type": "code",
    "id": "DYTxT_6OrZpe"
   },
   "outputs": [],
   "source": [
    "# L1 регуляризация"
   ]
  },
  {
   "cell_type": "markdown",
   "metadata": {
    "colab": {},
    "colab_type": "code",
    "id": "Ojkn7xKrsyiw"
   },
   "source": [
    "f(x, W) + (lambda_/2) * np.sum(np.abs(W))"
   ]
  },
  {
   "cell_type": "code",
   "execution_count": null,
   "metadata": {
    "colab": {},
    "colab_type": "code",
    "id": "j38vId7Hvtg0"
   },
   "outputs": [],
   "source": [
    "# L2 регуляризация"
   ]
  },
  {
   "cell_type": "code",
   "execution_count": null,
   "metadata": {
    "colab": {},
    "colab_type": "code",
    "id": "KO5BtZ7svv4k"
   },
   "outputs": [],
   "source": [
    "f(x, W) + (lambda_/2) * np.sum(W**2)"
   ]
  },
  {
   "cell_type": "code",
   "execution_count": null,
   "metadata": {
    "colab": {},
    "colab_type": "code",
    "id": "PKmpPziCv3IC"
   },
   "outputs": [],
   "source": [
    "f'(x, W) + lambda_ * np.sum(W)"
   ]
  },
  {
   "cell_type": "code",
   "execution_count": 27,
   "metadata": {
    "colab": {},
    "colab_type": "code",
    "id": "7AVoe1Mswjni"
   },
   "outputs": [],
   "source": [
    "def eval_model_reg2(X, y, iterations, alpha=1e-4, lambda_=1e-8):\n",
    "    np.random.seed(42)\n",
    "    W = np.random.randn(X.shape[0])\n",
    "    n = X.shape[1]\n",
    "    for i in range(1, iterations+1):\n",
    "        y_pred = np.dot(W, X)\n",
    "        err = calc_mse(y, y_pred)\n",
    "        W -= alpha * (1/n * 2 * np.dot((y_pred - y), X.T) + lambda_ * W) \n",
    "        #if i % (iterations / 10) == 0:\n",
    "        #    print(i, W, err)\n",
    "    return W"
   ]
  },
  {
   "cell_type": "code",
   "execution_count": 28,
   "metadata": {
    "colab": {
     "base_uri": "https://localhost:8080/",
     "height": 207
    },
    "colab_type": "code",
    "id": "vLJL6j8Lw6OA",
    "outputId": "dac9ef42-5966-4404-9346-aeb18cca83c6"
   },
   "outputs": [
    {
     "data": {
      "text/plain": [
       "array([57.39713014,  6.12102515,  1.4301203 ,  4.11587451])"
      ]
     },
     "execution_count": 28,
     "metadata": {},
     "output_type": "execute_result"
    }
   ],
   "source": [
    "eval_model_reg2(X_st, y, iterations=5000, alpha=1e-2, lambda_=1e-4)"
   ]
  },
  {
   "cell_type": "code",
   "execution_count": null,
   "metadata": {
    "colab": {},
    "colab_type": "code",
    "id": "WLREMakFxQgX"
   },
   "outputs": [],
   "source": [
    "1/lambda"
   ]
  },
  {
   "cell_type": "markdown",
   "metadata": {},
   "source": [
    "---"
   ]
  },
  {
   "cell_type": "markdown",
   "metadata": {},
   "source": [
    "# Домашнее задание"
   ]
  },
  {
   "cell_type": "markdown",
   "metadata": {},
   "source": [
    " 1. Постройте график зависимости весов всех признаков от lambda в L2-регуляризации (на данных из урока)."
   ]
  },
  {
   "cell_type": "code",
   "execution_count": 29,
   "metadata": {
    "scrolled": true
   },
   "outputs": [],
   "source": [
    "x_1 = np.linspace(1e-10,1,100)\n",
    "y_1 = [eval_model_reg2(X_st, y, iterations=5000, alpha=1e-2, lambda_=i) for i in x_1]"
   ]
  },
  {
   "cell_type": "code",
   "execution_count": 30,
   "metadata": {},
   "outputs": [
    {
     "data": {
      "image/png": "[encoded data removed]",
      "text/plain": [
       "<Figure size 432x288 with 1 Axes>"
      ]
     },
     "metadata": {
      "needs_background": "light"
     },
     "output_type": "display_data"
    }
   ],
   "source": [
    "plt.plot(x_1,y_1)\n",
    "#plt.xscale('log')\n",
    "plt.show()"
   ]
  },
  {
   "cell_type": "markdown",
   "metadata": {},
   "source": [
    "2. Можно ли к одному и тому же признаку применить сразу и нормализацию, и стандартизацию?"
   ]
  },
  {
   "cell_type": "markdown",
   "metadata": {},
   "source": [
    "Бессмысленное занятие, так как обе функции только масштабируют данные, т.е. на выходе получим результат только от конечной функции"
   ]
  }
 ],
 "metadata": {
  "colab": {
   "collapsed_sections": [],
   "name": "Lesson2.ipynb",
   "provenance": []
  },
  "kernelspec": {
   "display_name": "Python 3",
   "language": "python",
   "name": "python3"
  },
  "language_info": {
   "codemirror_mode": {
    "name": "ipython",
    "version": 3
   },
   "file_extension": ".py",
   "mimetype": "text/x-python",
   "name": "python",
   "nbconvert_exporter": "python",
   "pygments_lexer": "ipython3",
   "version": "3.7.3"
  }
 },
 "nbformat": 4,
 "nbformat_minor": 1
}
